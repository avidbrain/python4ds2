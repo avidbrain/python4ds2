{
 "cells": [
  {
   "cell_type": "markdown",
   "metadata": {},
   "source": [
    "# Библиотеки Python для Data Science: продолжение"
   ]
  },
  {
   "cell_type": "markdown",
   "metadata": {},
   "source": [
    "# Итоговый проект на тему: \"[Credit Default](https://www.kaggle.com/t/fbea09f719f94a9e97e641daeddb39b1)\""
   ]
  },
  {
   "cell_type": "markdown",
   "metadata": {},
   "source": [
    "> Студент - [Михайлов А.В.](https://geekbrains.ru/users/4305567), Kaggle User Name: avidclam, Display Name: Aleksandr Mikhailov"
   ]
  },
  {
   "cell_type": "code",
   "execution_count": 1,
   "metadata": {},
   "outputs": [],
   "source": [
    "import numpy as np\n",
    "import pandas as pd\n",
    "\n",
    "import matplotlib\n",
    "from matplotlib import pyplot as plt\n",
    "%matplotlib inline\n",
    "\n",
    "import seaborn as sns\n",
    "\n",
    "rc_params = {'figure.figsize': [11, 4.5], 'lines.linewidth': 2.5}\n",
    "\n",
    "matplotlib.rcParams.update(rc_params) \n",
    "sns.set_theme(style=\"whitegrid\")\n",
    "sns.set_context(\"notebook\", font_scale=1.2, rc=rc_params)"
   ]
  },
  {
   "cell_type": "code",
   "execution_count": 2,
   "metadata": {},
   "outputs": [],
   "source": [
    "from scipy.stats import chi2_contingency, mannwhitneyu"
   ]
  },
  {
   "cell_type": "code",
   "execution_count": 3,
   "metadata": {},
   "outputs": [],
   "source": [
    "from sklearn.tree import DecisionTreeClassifier\n",
    "from sklearn.model_selection import train_test_split, StratifiedKFold, GridSearchCV\n",
    "from sklearn.metrics import accuracy_score, classification_report, plot_confusion_matrix, plot_precision_recall_curve"
   ]
  },
  {
   "cell_type": "code",
   "execution_count": 4,
   "metadata": {},
   "outputs": [],
   "source": [
    "import xgboost as xgb, lightgbm as lgbm, catboost as catb"
   ]
  },
  {
   "cell_type": "markdown",
   "metadata": {},
   "source": [
    "## Импорт данных"
   ]
  },
  {
   "cell_type": "code",
   "execution_count": 5,
   "metadata": {},
   "outputs": [],
   "source": [
    "TRAIN_DATASET_PATH = './data/credit-default/train.csv'\n",
    "TEST_DATASET_PATH = './data/credit-default/test.csv'"
   ]
  },
  {
   "cell_type": "code",
   "execution_count": 6,
   "metadata": {},
   "outputs": [
    {
     "data": {
      "text/plain": [
       "(7500, 17)"
      ]
     },
     "metadata": {},
     "output_type": "display_data"
    },
    {
     "data": {
      "text/plain": [
       "(2500, 16)"
      ]
     },
     "metadata": {},
     "output_type": "display_data"
    }
   ],
   "source": [
    "df = pd.read_csv(TRAIN_DATASET_PATH)\n",
    "test_df = pd.read_csv(TEST_DATASET_PATH)\n",
    "display(df.shape, test_df.shape)"
   ]
  },
  {
   "cell_type": "markdown",
   "metadata": {},
   "source": [
    "## Целевые классы"
   ]
  },
  {
   "cell_type": "markdown",
   "metadata": {},
   "source": [
    "Credit Default - факт невыполнения кредитных обязательств (0 - погашен вовремя, 1 - просрочка)"
   ]
  },
  {
   "cell_type": "code",
   "execution_count": 7,
   "metadata": {},
   "outputs": [
    {
     "name": "stdout",
     "output_type": "stream",
     "text": [
      "0    0.718267\n",
      "1    0.281733\n",
      "Name: Credit Default, dtype: float64\n",
      "****\n",
      "2.5494557501183155\n"
     ]
    }
   ],
   "source": [
    "target = 'Credit Default'\n",
    "FREQ_NAME = 'Chance of Default'  # Обозначение частоты события \"1\". Ниже встретится сокращение CoD = Chance of Default\n",
    "target_counts = df[target].value_counts(normalize=True)\n",
    "target_disbalance = target_counts.loc[0] / target_counts.loc[1]\n",
    "print(target_counts, target_disbalance, sep='\\n****\\n')"
   ]
  },
  {
   "cell_type": "markdown",
   "metadata": {},
   "source": [
    "## Вспомогательные функции"
   ]
  },
  {
   "cell_type": "code",
   "execution_count": 8,
   "metadata": {},
   "outputs": [],
   "source": [
    "# Возвращает частоту единичной целевой переменной для каждого значения категориального признака (пропуски считаются отдельной категорией)\n",
    "def feature_target_counts(df, features, na_value='NA', target=target, freq_name=FREQ_NAME):\n",
    "    result_df = df.filter(features + [target]).fillna(na_value).value_counts().unstack(fill_value=0)\n",
    "    result_df['Count'] = result_df[0] + result_df[1]\n",
    "    result_df['Share %'] = round(result_df['Count'] * 100 / df.shape[0], 2)\n",
    "    result_df[freq_name] = result_df[1] / result_df['Count']\n",
    "    return result_df"
   ]
  },
  {
   "cell_type": "code",
   "execution_count": 9,
   "metadata": {},
   "outputs": [],
   "source": [
    "# Возврашает частоту единичной целевой переменной для интервала распределения признака (на базе квантилей)\n",
    "def get_quantile_freq(df, feature, nbins, target=target, freq_name=FREQ_NAME):\n",
    "    _feature_df = df.filter([feature, target]).dropna()\n",
    "    quantile_df = pd.DataFrame(_feature_df[feature].quantile(np.linspace(0, 1, nbins+1)))\n",
    "    quantile_df[feature].iloc[[0, -1]] = np.NINF, np.inf\n",
    "    quantile_df = quantile_df.reset_index().rename(columns = {'index': 'Quantile'})\n",
    "    _feature_df['Feature Bin'] = pd.cut(_feature_df[feature], bins = quantile_df[feature], labels=False)\n",
    "    return feature_target_counts(_feature_df, ['Feature Bin'], target=target, freq_name=freq_name).join(quantile_df)"
   ]
  },
  {
   "cell_type": "code",
   "execution_count": 10,
   "metadata": {},
   "outputs": [],
   "source": [
    "# Используется для генерации target encoding-признака, сопоставляющего исходному значению признака \n",
    "# частоту единичной целевой переменной соответствующего интервала распределения (из функции get_quantile_freq)\n",
    "def get_feature_freq(df, quantile_freq, na_value=None, freq_name=FREQ_NAME):\n",
    "    feature = quantile_freq.columns[-1]\n",
    "    _feature_df = pd.DataFrame({'Feature Bin': pd.cut(df[feature], bins=quantile_freq[feature].tolist() + [np.inf], labels=False)})\n",
    "    result_df = pd.merge(_feature_df, quantile_freq.reset_index().filter(['Feature Bin', freq_name]), how='left', on='Feature Bin')\n",
    "    if na_value is not None:\n",
    "        result_df[freq_name].fillna(na_value, inplace=True)\n",
    "    return result_df[freq_name].values"
   ]
  },
  {
   "cell_type": "markdown",
   "metadata": {},
   "source": [
    "## Признаки: анализ существующих, генерация дополнительных"
   ]
  },
  {
   "cell_type": "code",
   "execution_count": 11,
   "metadata": {},
   "outputs": [],
   "source": [
    "feature_candidates = []  # Здесь будем собирать кандидатов в признаки модели"
   ]
  },
  {
   "cell_type": "code",
   "execution_count": 12,
   "metadata": {},
   "outputs": [
    {
     "name": "stdout",
     "output_type": "stream",
     "text": [
      "Credit Score                    0.442050\n",
      "Current Loan Amount             0.226522\n",
      "Annual Income                   0.101375\n",
      "Number of Open Accounts         0.028884\n",
      "Tax Liens                       0.024368\n",
      "Years of Credit History         0.020567\n",
      "Number of Credit Problems       0.020088\n",
      "Current Credit Balance          0.019522\n",
      "Monthly Debt                    0.018480\n",
      "Maximum Open Credit             0.014275\n",
      "Months since last delinquent    0.002598\n",
      "Bankruptcies                    0.001648\n",
      "Name: Credit Default, dtype: float64\n"
     ]
    }
   ],
   "source": [
    "# Предварительная значимость числовых признаков исходя из корреляции с целевой переменной\n",
    "target_corr = df.corr()[target].abs().sort_values(ascending=False)[1:]\n",
    "print(target_corr)"
   ]
  },
  {
   "cell_type": "code",
   "execution_count": 13,
   "metadata": {},
   "outputs": [
    {
     "data": {
      "text/plain": [
       "{'Home Ownership', 'Purpose', 'Term', 'Years in current job'}"
      ]
     },
     "execution_count": 13,
     "metadata": {},
     "output_type": "execute_result"
    }
   ],
   "source": [
    "# Список категориальных признаков:\n",
    "set(df.columns) - set(target_corr.index) - {target}"
   ]
  },
  {
   "cell_type": "code",
   "execution_count": 14,
   "metadata": {},
   "outputs": [
    {
     "name": "stdout",
     "output_type": "stream",
     "text": [
      "['Annual Income', 'Bankruptcies', 'Credit Score', 'Months since last delinquent', 'Years in current job']\n"
     ]
    }
   ],
   "source": [
    "# Признаки с пропущенными значениями\n",
    "print(df.columns[df.apply(lambda x: x.isnull().any())].sort_values().tolist())"
   ]
  },
  {
   "cell_type": "markdown",
   "metadata": {},
   "source": [
    "### Credit Score"
   ]
  },
  {
   "cell_type": "code",
   "execution_count": 15,
   "metadata": {},
   "outputs": [
    {
     "data": {
      "text/plain": [
       "False    0.7924\n",
       "True     0.2076\n",
       "Name: Credit Score, dtype: float64"
      ]
     },
     "execution_count": 15,
     "metadata": {},
     "output_type": "execute_result"
    }
   ],
   "source": [
    "feature_name = 'Credit Score'\n",
    "df[feature_name].isnull().value_counts(normalize=True)"
   ]
  },
  {
   "cell_type": "code",
   "execution_count": 16,
   "metadata": {},
   "outputs": [
    {
     "data": {
      "text/plain": [
       "True"
      ]
     },
     "execution_count": 16,
     "metadata": {},
     "output_type": "execute_result"
    }
   ],
   "source": [
    "# Сразу заметим, что пропущенные значения признака Credit Score совпадают с пропущенными значениями Annual Income\n",
    "all(df['Credit Score'].isnull() == df['Annual Income'].isnull())"
   ]
  },
  {
   "cell_type": "markdown",
   "metadata": {},
   "source": [
    "**Примечание**: вне данного ноутбука была сделана попытка заполнить пропущенные значения Credit Score и Annual Income через регрессию по другим признакам, но значения R2 в районе ~0.3 показались недостаточными для практического применения этого метода."
   ]
  },
  {
   "cell_type": "code",
   "execution_count": 17,
   "metadata": {},
   "outputs": [
    {
     "data": {
      "text/plain": [
       "0.3397559409120103"
      ]
     },
     "execution_count": 17,
     "metadata": {},
     "output_type": "execute_result"
    }
   ],
   "source": [
    "# Запомним значение частоты дефолта для данных, у которых пропущен кредитный рейтинг и значения годового дохода, пригодится в дальшейшем.\n",
    "credit_score_missing_freq = df.loc[df[feature_name].isnull(), target].mean()\n",
    "credit_score_missing_freq"
   ]
  },
  {
   "cell_type": "code",
   "execution_count": 18,
   "metadata": {},
   "outputs": [
    {
     "data": {
      "image/png": "[encoded data removed]",
      "text/plain": [
       "<Figure size 792x324 with 1 Axes>"
      ]
     },
     "metadata": {},
     "output_type": "display_data"
    }
   ],
   "source": [
    "sns.kdeplot(data=df, x=feature_name);"
   ]
  },
  {
   "cell_type": "code",
   "execution_count": 19,
   "metadata": {},
   "outputs": [
    {
     "data": {
      "text/html": [
       "<div>\n",
       "<style scoped>\n",
       "    .dataframe tbody tr th:only-of-type {\n",
       "        vertical-align: middle;\n",
       "    }\n",
       "\n",
       "    .dataframe tbody tr th {\n",
       "        vertical-align: top;\n",
       "    }\n",
       "\n",
       "    .dataframe thead th {\n",
       "        text-align: right;\n",
       "    }\n",
       "</style>\n",
       "<table border=\"1\" class=\"dataframe\">\n",
       "  <thead>\n",
       "    <tr style=\"text-align: right;\">\n",
       "      <th>Credit Default</th>\n",
       "      <th>0</th>\n",
       "      <th>1</th>\n",
       "      <th>Count</th>\n",
       "      <th>Share %</th>\n",
       "      <th>Chance of Default</th>\n",
       "    </tr>\n",
       "    <tr>\n",
       "      <th>Tag</th>\n",
       "      <th></th>\n",
       "      <th></th>\n",
       "      <th></th>\n",
       "      <th></th>\n",
       "      <th></th>\n",
       "    </tr>\n",
       "  </thead>\n",
       "  <tbody>\n",
       "    <tr>\n",
       "      <th>High</th>\n",
       "      <td>0</td>\n",
       "      <td>400</td>\n",
       "      <td>400</td>\n",
       "      <td>5.33</td>\n",
       "      <td>1.000000</td>\n",
       "    </tr>\n",
       "    <tr>\n",
       "      <th>Missing</th>\n",
       "      <td>1028</td>\n",
       "      <td>529</td>\n",
       "      <td>1557</td>\n",
       "      <td>20.76</td>\n",
       "      <td>0.339756</td>\n",
       "    </tr>\n",
       "    <tr>\n",
       "      <th>Low</th>\n",
       "      <td>4359</td>\n",
       "      <td>1184</td>\n",
       "      <td>5543</td>\n",
       "      <td>73.91</td>\n",
       "      <td>0.213603</td>\n",
       "    </tr>\n",
       "  </tbody>\n",
       "</table>\n",
       "</div>"
      ],
      "text/plain": [
       "Credit Default     0     1  Count  Share %  Chance of Default\n",
       "Tag                                                          \n",
       "High               0   400    400     5.33           1.000000\n",
       "Missing         1028   529   1557    20.76           0.339756\n",
       "Low             4359  1184   5543    73.91           0.213603"
      ]
     },
     "execution_count": 19,
     "metadata": {},
     "output_type": "execute_result"
    }
   ],
   "source": [
    "# Выясним, как влияет \"расположение на шкале\" на целевую переменную\n",
    "feature_df = df.assign(Tag=np.sign(df[feature_name] - 4000).map({-1: 'Low', 1: 'High'}))\n",
    "feature_target_counts(feature_df, ['Tag'], 'Missing').sort_values(FREQ_NAME, ascending=False)"
   ]
  },
  {
   "cell_type": "markdown",
   "metadata": {},
   "source": [
    "Как видим, \"десятикратные\" показатели рейтинга однозначно свидетельствуют о ненадежности клиента."
   ]
  },
  {
   "cell_type": "code",
   "execution_count": 20,
   "metadata": {},
   "outputs": [
    {
     "data": {
      "image/png": "[encoded data removed]",
      "text/plain": [
       "<Figure size 792x324 with 1 Axes>"
      ]
     },
     "metadata": {},
     "output_type": "display_data"
    }
   ],
   "source": [
    "# Посмотрим, как частота дефолта меняется в квантилях распределения \"нижней кривой\" признака\n",
    "qfreq_df = get_quantile_freq(df[df[feature_name] < 4000], feature_name, nbins=15)\n",
    "sns.regplot(data=qfreq_df, x='Quantile', y=FREQ_NAME);"
   ]
  },
  {
   "cell_type": "code",
   "execution_count": 21,
   "metadata": {},
   "outputs": [],
   "source": [
    "# Создадим признак Credit Score CoD, в котором значению Credit Score сопоставлена частота единичной целевой переменной соответствующего бина (интервала квантилей)\n",
    "feature_freq_name = f\"{feature_name} CoD\"\n",
    "df[feature_freq_name] = get_feature_freq(df, qfreq_df, na_value=credit_score_missing_freq)\n",
    "test_df[feature_freq_name] = get_feature_freq(test_df, qfreq_df, na_value=credit_score_missing_freq)"
   ]
  },
  {
   "cell_type": "code",
   "execution_count": 22,
   "metadata": {},
   "outputs": [],
   "source": [
    "# Учтем высокий риск \"десятикратных\" значений основного признака\n",
    "df.loc[df[feature_name] > 4000, feature_freq_name] = 1.0\n",
    "test_df.loc[test_df[feature_name] > 4000, feature_freq_name] = 1.0"
   ]
  },
  {
   "cell_type": "code",
   "execution_count": 23,
   "metadata": {},
   "outputs": [
    {
     "data": {
      "text/html": [
       "<div>\n",
       "<style scoped>\n",
       "    .dataframe tbody tr th:only-of-type {\n",
       "        vertical-align: middle;\n",
       "    }\n",
       "\n",
       "    .dataframe tbody tr th {\n",
       "        vertical-align: top;\n",
       "    }\n",
       "\n",
       "    .dataframe thead th {\n",
       "        text-align: right;\n",
       "    }\n",
       "</style>\n",
       "<table border=\"1\" class=\"dataframe\">\n",
       "  <thead>\n",
       "    <tr style=\"text-align: right;\">\n",
       "      <th></th>\n",
       "      <th>Credit Score</th>\n",
       "      <th>Credit Score CoD</th>\n",
       "    </tr>\n",
       "  </thead>\n",
       "  <tbody>\n",
       "    <tr>\n",
       "      <th>Credit Score</th>\n",
       "      <td>1.00000</td>\n",
       "      <td>0.91332</td>\n",
       "    </tr>\n",
       "    <tr>\n",
       "      <th>Credit Score CoD</th>\n",
       "      <td>0.91332</td>\n",
       "      <td>1.00000</td>\n",
       "    </tr>\n",
       "  </tbody>\n",
       "</table>\n",
       "</div>"
      ],
      "text/plain": [
       "                  Credit Score  Credit Score CoD\n",
       "Credit Score           1.00000           0.91332\n",
       "Credit Score CoD       0.91332           1.00000"
      ]
     },
     "execution_count": 23,
     "metadata": {},
     "output_type": "execute_result"
    }
   ],
   "source": [
    "df.filter([feature_name, feature_freq_name]).corr()"
   ]
  },
  {
   "cell_type": "code",
   "execution_count": 24,
   "metadata": {},
   "outputs": [],
   "source": [
    "# Корреляция двух признаков большая, оставим только сгенерированный через целевую переменную\n",
    "feature_candidates.append(feature_freq_name)"
   ]
  },
  {
   "cell_type": "markdown",
   "metadata": {},
   "source": [
    "### Annual Income - годовой доход"
   ]
  },
  {
   "cell_type": "code",
   "execution_count": 25,
   "metadata": {},
   "outputs": [
    {
     "data": {
      "text/plain": [
       "False    0.7924\n",
       "True     0.2076\n",
       "Name: Annual Income, dtype: float64"
      ]
     },
     "execution_count": 25,
     "metadata": {},
     "output_type": "execute_result"
    }
   ],
   "source": [
    "feature_name = 'Annual Income'\n",
    "df[feature_name].isnull().value_counts(normalize=True)"
   ]
  },
  {
   "cell_type": "code",
   "execution_count": 26,
   "metadata": {},
   "outputs": [
    {
     "data": {
      "image/png": "[encoded data removed]",
      "text/plain": [
       "<Figure size 792x324 with 1 Axes>"
      ]
     },
     "metadata": {},
     "output_type": "display_data"
    }
   ],
   "source": [
    "# Создадим признак Annual Income CoD, аналогичный по построению Credit Score CoD\n",
    "qfreq_df = get_quantile_freq(df, feature_name, nbins=9)\n",
    "sns.regplot(data=qfreq_df, x='Quantile', y=FREQ_NAME)\n",
    "feature_freq_name = f\"{feature_name} CoD\"\n",
    "df[feature_freq_name] = get_feature_freq(df, qfreq_df, na_value=credit_score_missing_freq)\n",
    "test_df[feature_freq_name] = get_feature_freq(test_df, qfreq_df, na_value=credit_score_missing_freq)"
   ]
  },
  {
   "cell_type": "code",
   "execution_count": 27,
   "metadata": {},
   "outputs": [
    {
     "data": {
      "text/html": [
       "<div>\n",
       "<style scoped>\n",
       "    .dataframe tbody tr th:only-of-type {\n",
       "        vertical-align: middle;\n",
       "    }\n",
       "\n",
       "    .dataframe tbody tr th {\n",
       "        vertical-align: top;\n",
       "    }\n",
       "\n",
       "    .dataframe thead th {\n",
       "        text-align: right;\n",
       "    }\n",
       "</style>\n",
       "<table border=\"1\" class=\"dataframe\">\n",
       "  <thead>\n",
       "    <tr style=\"text-align: right;\">\n",
       "      <th></th>\n",
       "      <th>Annual Income</th>\n",
       "      <th>Annual Income CoD</th>\n",
       "    </tr>\n",
       "  </thead>\n",
       "  <tbody>\n",
       "    <tr>\n",
       "      <th>Annual Income</th>\n",
       "      <td>1.000000</td>\n",
       "      <td>-0.826125</td>\n",
       "    </tr>\n",
       "    <tr>\n",
       "      <th>Annual Income CoD</th>\n",
       "      <td>-0.826125</td>\n",
       "      <td>1.000000</td>\n",
       "    </tr>\n",
       "  </tbody>\n",
       "</table>\n",
       "</div>"
      ],
      "text/plain": [
       "                   Annual Income  Annual Income CoD\n",
       "Annual Income           1.000000          -0.826125\n",
       "Annual Income CoD      -0.826125           1.000000"
      ]
     },
     "execution_count": 27,
     "metadata": {},
     "output_type": "execute_result"
    }
   ],
   "source": [
    "df.filter([feature_name, feature_freq_name]).corr()"
   ]
  },
  {
   "cell_type": "code",
   "execution_count": 28,
   "metadata": {},
   "outputs": [],
   "source": [
    "feature_candidates.append(feature_freq_name)"
   ]
  },
  {
   "cell_type": "markdown",
   "metadata": {},
   "source": [
    "### Current Loan Amount - текущая сумма кредита"
   ]
  },
  {
   "cell_type": "code",
   "execution_count": 29,
   "metadata": {},
   "outputs": [],
   "source": [
    "feature_name = 'Current Loan Amount'"
   ]
  },
  {
   "cell_type": "code",
   "execution_count": 30,
   "metadata": {},
   "outputs": [
    {
     "data": {
      "text/plain": [
       "False    6630\n",
       "True      870\n",
       "Name: Current Loan Amount, dtype: int64"
      ]
     },
     "execution_count": 30,
     "metadata": {},
     "output_type": "execute_result"
    }
   ],
   "source": [
    "# Есть странное значение 99999999, обозначающее какое-то особое состояние\n",
    "(df[feature_name] == 99999999).value_counts()"
   ]
  },
  {
   "cell_type": "code",
   "execution_count": 31,
   "metadata": {},
   "outputs": [
    {
     "data": {
      "text/html": [
       "<div>\n",
       "<style scoped>\n",
       "    .dataframe tbody tr th:only-of-type {\n",
       "        vertical-align: middle;\n",
       "    }\n",
       "\n",
       "    .dataframe tbody tr th {\n",
       "        vertical-align: top;\n",
       "    }\n",
       "\n",
       "    .dataframe thead th {\n",
       "        text-align: right;\n",
       "    }\n",
       "</style>\n",
       "<table border=\"1\" class=\"dataframe\">\n",
       "  <thead>\n",
       "    <tr style=\"text-align: right;\">\n",
       "      <th>Credit Default</th>\n",
       "      <th>0</th>\n",
       "      <th>1</th>\n",
       "      <th>Count</th>\n",
       "      <th>Share %</th>\n",
       "      <th>Chance of Default</th>\n",
       "    </tr>\n",
       "    <tr>\n",
       "      <th>Tag</th>\n",
       "      <th></th>\n",
       "      <th></th>\n",
       "      <th></th>\n",
       "      <th></th>\n",
       "      <th></th>\n",
       "    </tr>\n",
       "  </thead>\n",
       "  <tbody>\n",
       "    <tr>\n",
       "      <th>False</th>\n",
       "      <td>4517</td>\n",
       "      <td>2113</td>\n",
       "      <td>6630</td>\n",
       "      <td>88.4</td>\n",
       "      <td>0.318703</td>\n",
       "    </tr>\n",
       "    <tr>\n",
       "      <th>True</th>\n",
       "      <td>870</td>\n",
       "      <td>0</td>\n",
       "      <td>870</td>\n",
       "      <td>11.6</td>\n",
       "      <td>0.000000</td>\n",
       "    </tr>\n",
       "  </tbody>\n",
       "</table>\n",
       "</div>"
      ],
      "text/plain": [
       "Credit Default     0     1  Count  Share %  Chance of Default\n",
       "Tag                                                          \n",
       "False           4517  2113   6630     88.4           0.318703\n",
       "True             870     0    870     11.6           0.000000"
      ]
     },
     "execution_count": 31,
     "metadata": {},
     "output_type": "execute_result"
    }
   ],
   "source": [
    "# Как можно убедиться, \"особое состояние\" = \"уверенность в погашении кредита\"\n",
    "feature_df = df.assign(Tag=df[feature_name] == 99999999)\n",
    "feature_target_counts(feature_df, ['Tag'])"
   ]
  },
  {
   "cell_type": "code",
   "execution_count": 32,
   "metadata": {},
   "outputs": [],
   "source": [
    "# Создадим особый признак\n",
    "new_feature_name = f\"{feature_name} Low Risk\"\n",
    "df[new_feature_name] = (df[feature_name] == 99999999).astype(np.uint8)\n",
    "test_df[new_feature_name] = (test_df[feature_name] == 99999999).astype(np.uint8)"
   ]
  },
  {
   "cell_type": "code",
   "execution_count": 33,
   "metadata": {},
   "outputs": [],
   "source": [
    "feature_candidates.append(new_feature_name)  # сам признак используем далее"
   ]
  },
  {
   "cell_type": "markdown",
   "metadata": {},
   "source": [
    "### Maximum Open Credit - наибольший открытый кредит"
   ]
  },
  {
   "cell_type": "markdown",
   "metadata": {},
   "source": [
    "Сравнение с Current Loan Amount может быть полезно для разделения целевой переменной."
   ]
  },
  {
   "cell_type": "code",
   "execution_count": 34,
   "metadata": {},
   "outputs": [],
   "source": [
    "feature_name = 'Maximum Open Credit'\n",
    "cross_feature_name = 'Maximum Open Credit - Current Loan Amount'\n",
    "df[cross_feature_name] = df[feature_name] - df['Current Loan Amount']\n",
    "test_df[cross_feature_name] = test_df[feature_name] - test_df['Current Loan Amount']"
   ]
  },
  {
   "cell_type": "code",
   "execution_count": 35,
   "metadata": {},
   "outputs": [
    {
     "data": {
      "image/png": "[encoded data removed]",
      "text/plain": [
       "<Figure size 792x324 with 1 Axes>"
      ]
     },
     "metadata": {},
     "output_type": "display_data"
    }
   ],
   "source": [
    "sns.kdeplot(data=df, x=cross_feature_name, hue=target, clip=(-1e7, 1e7));"
   ]
  },
  {
   "cell_type": "code",
   "execution_count": 36,
   "metadata": {},
   "outputs": [
    {
     "data": {
      "text/plain": [
       "MannwhitneyuResult(statistic=5371067.5, pvalue=7.317532151695133e-05)"
      ]
     },
     "execution_count": 36,
     "metadata": {},
     "output_type": "execute_result"
    }
   ],
   "source": [
    "# Убедимся в отсутствии эквивалентность мат. ожадиний в исследуемых группах, с помощью критерия Манна-Уитни.\n",
    "mannwhitneyu(\n",
    "    df.loc[df[target] == 0, cross_feature_name].values,\n",
    "    df.loc[df[target] == 1, cross_feature_name].values\n",
    ")"
   ]
  },
  {
   "cell_type": "code",
   "execution_count": 37,
   "metadata": {},
   "outputs": [],
   "source": [
    "df.loc[(df['Current Loan Amount Low Risk'] == 1), cross_feature_name] = df.loc[(df['Current Loan Amount Low Risk'] == 1), 'Maximum Open Credit']\n",
    "test_df.loc[(test_df['Current Loan Amount Low Risk'] == 1), cross_feature_name] = test_df.loc[(test_df['Current Loan Amount Low Risk'] == 1), 'Maximum Open Credit']"
   ]
  },
  {
   "cell_type": "code",
   "execution_count": 38,
   "metadata": {},
   "outputs": [],
   "source": [
    "feature_candidates.append(cross_feature_name)"
   ]
  },
  {
   "cell_type": "markdown",
   "metadata": {},
   "source": [
    "### Current Credit Balance - текущий кредитный баланс и Monthly Debt - ежемесячный долг"
   ]
  },
  {
   "cell_type": "code",
   "execution_count": 39,
   "metadata": {},
   "outputs": [
    {
     "data": {
      "image/png": "[encoded data removed]",
      "text/plain": [
       "<Figure size 792x324 with 2 Axes>"
      ]
     },
     "metadata": {},
     "output_type": "display_data"
    }
   ],
   "source": [
    "# Оба признака не особенно эффективно разделяют целевую переменную\n",
    "fig, ax = plt.subplots(1,2)\n",
    "sns.pointplot(data=df, x=target, y='Current Credit Balance', capsize=.2, ax=ax[0])\n",
    "sns.pointplot(data=df, x=target, y='Monthly Debt', capsize=.2, ax=ax[1])\n",
    "fig.tight_layout() "
   ]
  },
  {
   "cell_type": "code",
   "execution_count": 40,
   "metadata": {},
   "outputs": [],
   "source": [
    "# Создадим синтетический признак частного от деления 'Current Credit Balance' на 'Monthly Debt'\n",
    "df.loc[df['Monthly Debt'] == 0, 'Monthly Debt'] = np.NaN\n",
    "df['Current Credit Balance/Monthly Debt'] = df['Current Credit Balance'] / df['Monthly Debt']\n",
    "df['Current Credit Balance/Monthly Debt'].fillna(df['Current Credit Balance/Monthly Debt'].max(), inplace=True)\n",
    "df['Monthly Debt'].fillna(0, inplace=True)"
   ]
  },
  {
   "cell_type": "code",
   "execution_count": 41,
   "metadata": {},
   "outputs": [],
   "source": [
    "test_df.loc[df['Monthly Debt'] == 0, 'Monthly Debt'] = np.NaN\n",
    "test_df['Current Credit Balance/Monthly Debt'] = test_df['Current Credit Balance'] / test_df['Monthly Debt']\n",
    "test_df['Current Credit Balance/Monthly Debt'].fillna(test_df['Current Credit Balance/Monthly Debt'].max(), inplace=True)\n",
    "test_df['Monthly Debt'].fillna(0, inplace=True)"
   ]
  },
  {
   "cell_type": "code",
   "execution_count": 42,
   "metadata": {},
   "outputs": [
    {
     "data": {
      "image/png": "[encoded data removed]",
      "text/plain": [
       "<Figure size 792x324 with 1 Axes>"
      ]
     },
     "metadata": {},
     "output_type": "display_data"
    }
   ],
   "source": [
    "# Ситетический признак разделяет немного лучше\n",
    "sns.pointplot(data=df, x=target, y='Current Credit Balance/Monthly Debt', capsize=.2);"
   ]
  },
  {
   "cell_type": "code",
   "execution_count": 43,
   "metadata": {},
   "outputs": [],
   "source": [
    "feature_candidates.append('Current Credit Balance/Monthly Debt')"
   ]
  },
  {
   "cell_type": "markdown",
   "metadata": {},
   "source": [
    "### Tax Liens - налоговые обременения"
   ]
  },
  {
   "cell_type": "code",
   "execution_count": 44,
   "metadata": {},
   "outputs": [
    {
     "data": {
      "text/html": [
       "<div>\n",
       "<style scoped>\n",
       "    .dataframe tbody tr th:only-of-type {\n",
       "        vertical-align: middle;\n",
       "    }\n",
       "\n",
       "    .dataframe tbody tr th {\n",
       "        vertical-align: top;\n",
       "    }\n",
       "\n",
       "    .dataframe thead th {\n",
       "        text-align: right;\n",
       "    }\n",
       "</style>\n",
       "<table border=\"1\" class=\"dataframe\">\n",
       "  <thead>\n",
       "    <tr style=\"text-align: right;\">\n",
       "      <th>Credit Default</th>\n",
       "      <th>0</th>\n",
       "      <th>1</th>\n",
       "      <th>Count</th>\n",
       "      <th>Share %</th>\n",
       "      <th>Chance of Default</th>\n",
       "    </tr>\n",
       "    <tr>\n",
       "      <th>Tax Liens</th>\n",
       "      <th></th>\n",
       "      <th></th>\n",
       "      <th></th>\n",
       "      <th></th>\n",
       "      <th></th>\n",
       "    </tr>\n",
       "  </thead>\n",
       "  <tbody>\n",
       "    <tr>\n",
       "      <th>0.0</th>\n",
       "      <td>5301</td>\n",
       "      <td>2065</td>\n",
       "      <td>7366</td>\n",
       "      <td>98.21</td>\n",
       "      <td>0.280342</td>\n",
       "    </tr>\n",
       "    <tr>\n",
       "      <th>1.0</th>\n",
       "      <td>59</td>\n",
       "      <td>24</td>\n",
       "      <td>83</td>\n",
       "      <td>1.11</td>\n",
       "      <td>0.289157</td>\n",
       "    </tr>\n",
       "    <tr>\n",
       "      <th>2.0</th>\n",
       "      <td>15</td>\n",
       "      <td>15</td>\n",
       "      <td>30</td>\n",
       "      <td>0.40</td>\n",
       "      <td>0.500000</td>\n",
       "    </tr>\n",
       "    <tr>\n",
       "      <th>3.0</th>\n",
       "      <td>5</td>\n",
       "      <td>5</td>\n",
       "      <td>10</td>\n",
       "      <td>0.13</td>\n",
       "      <td>0.500000</td>\n",
       "    </tr>\n",
       "    <tr>\n",
       "      <th>4.0</th>\n",
       "      <td>3</td>\n",
       "      <td>3</td>\n",
       "      <td>6</td>\n",
       "      <td>0.08</td>\n",
       "      <td>0.500000</td>\n",
       "    </tr>\n",
       "    <tr>\n",
       "      <th>5.0</th>\n",
       "      <td>1</td>\n",
       "      <td>1</td>\n",
       "      <td>2</td>\n",
       "      <td>0.03</td>\n",
       "      <td>0.500000</td>\n",
       "    </tr>\n",
       "    <tr>\n",
       "      <th>6.0</th>\n",
       "      <td>2</td>\n",
       "      <td>0</td>\n",
       "      <td>2</td>\n",
       "      <td>0.03</td>\n",
       "      <td>0.000000</td>\n",
       "    </tr>\n",
       "    <tr>\n",
       "      <th>7.0</th>\n",
       "      <td>1</td>\n",
       "      <td>0</td>\n",
       "      <td>1</td>\n",
       "      <td>0.01</td>\n",
       "      <td>0.000000</td>\n",
       "    </tr>\n",
       "  </tbody>\n",
       "</table>\n",
       "</div>"
      ],
      "text/plain": [
       "Credit Default     0     1  Count  Share %  Chance of Default\n",
       "Tax Liens                                                    \n",
       "0.0             5301  2065   7366    98.21           0.280342\n",
       "1.0               59    24     83     1.11           0.289157\n",
       "2.0               15    15     30     0.40           0.500000\n",
       "3.0                5     5     10     0.13           0.500000\n",
       "4.0                3     3      6     0.08           0.500000\n",
       "5.0                1     1      2     0.03           0.500000\n",
       "6.0                2     0      2     0.03           0.000000\n",
       "7.0                1     0      1     0.01           0.000000"
      ]
     },
     "execution_count": 44,
     "metadata": {},
     "output_type": "execute_result"
    }
   ],
   "source": [
    "feature_name = 'Tax Liens'\n",
    "agg_df = feature_target_counts(df, [feature_name])\n",
    "agg_df"
   ]
  },
  {
   "cell_type": "code",
   "execution_count": 45,
   "metadata": {},
   "outputs": [
    {
     "data": {
      "text/plain": [
       "0.956212700856196"
      ]
     },
     "execution_count": 45,
     "metadata": {},
     "output_type": "execute_result"
    }
   ],
   "source": [
    "# Группы мало пригодны для разделения целевой переменной\n",
    "chi2, p, dof, ex = chi2_contingency(agg_df.loc[[0,1], [0,1]])\n",
    "p"
   ]
  },
  {
   "cell_type": "markdown",
   "metadata": {},
   "source": [
    "### Number of Credit Problems - количество проблем с кредитом"
   ]
  },
  {
   "cell_type": "code",
   "execution_count": 46,
   "metadata": {},
   "outputs": [
    {
     "data": {
      "text/html": [
       "<div>\n",
       "<style scoped>\n",
       "    .dataframe tbody tr th:only-of-type {\n",
       "        vertical-align: middle;\n",
       "    }\n",
       "\n",
       "    .dataframe tbody tr th {\n",
       "        vertical-align: top;\n",
       "    }\n",
       "\n",
       "    .dataframe thead th {\n",
       "        text-align: right;\n",
       "    }\n",
       "</style>\n",
       "<table border=\"1\" class=\"dataframe\">\n",
       "  <thead>\n",
       "    <tr style=\"text-align: right;\">\n",
       "      <th>Credit Default</th>\n",
       "      <th>0</th>\n",
       "      <th>1</th>\n",
       "      <th>Count</th>\n",
       "      <th>Share %</th>\n",
       "      <th>Chance of Default</th>\n",
       "    </tr>\n",
       "    <tr>\n",
       "      <th>Number of Credit Problems</th>\n",
       "      <th></th>\n",
       "      <th></th>\n",
       "      <th></th>\n",
       "      <th></th>\n",
       "      <th></th>\n",
       "    </tr>\n",
       "  </thead>\n",
       "  <tbody>\n",
       "    <tr>\n",
       "      <th>0.0</th>\n",
       "      <td>4654</td>\n",
       "      <td>1815</td>\n",
       "      <td>6469</td>\n",
       "      <td>86.25</td>\n",
       "      <td>0.280569</td>\n",
       "    </tr>\n",
       "    <tr>\n",
       "      <th>1.0</th>\n",
       "      <td>641</td>\n",
       "      <td>241</td>\n",
       "      <td>882</td>\n",
       "      <td>11.76</td>\n",
       "      <td>0.273243</td>\n",
       "    </tr>\n",
       "    <tr>\n",
       "      <th>2.0</th>\n",
       "      <td>60</td>\n",
       "      <td>33</td>\n",
       "      <td>93</td>\n",
       "      <td>1.24</td>\n",
       "      <td>0.354839</td>\n",
       "    </tr>\n",
       "    <tr>\n",
       "      <th>3.0</th>\n",
       "      <td>21</td>\n",
       "      <td>14</td>\n",
       "      <td>35</td>\n",
       "      <td>0.47</td>\n",
       "      <td>0.400000</td>\n",
       "    </tr>\n",
       "    <tr>\n",
       "      <th>4.0</th>\n",
       "      <td>3</td>\n",
       "      <td>6</td>\n",
       "      <td>9</td>\n",
       "      <td>0.12</td>\n",
       "      <td>0.666667</td>\n",
       "    </tr>\n",
       "    <tr>\n",
       "      <th>5.0</th>\n",
       "      <td>3</td>\n",
       "      <td>4</td>\n",
       "      <td>7</td>\n",
       "      <td>0.09</td>\n",
       "      <td>0.571429</td>\n",
       "    </tr>\n",
       "    <tr>\n",
       "      <th>6.0</th>\n",
       "      <td>4</td>\n",
       "      <td>0</td>\n",
       "      <td>4</td>\n",
       "      <td>0.05</td>\n",
       "      <td>0.000000</td>\n",
       "    </tr>\n",
       "    <tr>\n",
       "      <th>7.0</th>\n",
       "      <td>1</td>\n",
       "      <td>0</td>\n",
       "      <td>1</td>\n",
       "      <td>0.01</td>\n",
       "      <td>0.000000</td>\n",
       "    </tr>\n",
       "  </tbody>\n",
       "</table>\n",
       "</div>"
      ],
      "text/plain": [
       "Credit Default                0     1  Count  Share %  Chance of Default\n",
       "Number of Credit Problems                                               \n",
       "0.0                        4654  1815   6469    86.25           0.280569\n",
       "1.0                         641   241    882    11.76           0.273243\n",
       "2.0                          60    33     93     1.24           0.354839\n",
       "3.0                          21    14     35     0.47           0.400000\n",
       "4.0                           3     6      9     0.12           0.666667\n",
       "5.0                           3     4      7     0.09           0.571429\n",
       "6.0                           4     0      4     0.05           0.000000\n",
       "7.0                           1     0      1     0.01           0.000000"
      ]
     },
     "execution_count": 46,
     "metadata": {},
     "output_type": "execute_result"
    }
   ],
   "source": [
    "feature_name = 'Number of Credit Problems'\n",
    "agg_df = feature_target_counts(df, [feature_name])\n",
    "agg_df"
   ]
  },
  {
   "cell_type": "code",
   "execution_count": 47,
   "metadata": {},
   "outputs": [
    {
     "data": {
      "text/plain": [
       "0.6783214582441461"
      ]
     },
     "execution_count": 47,
     "metadata": {},
     "output_type": "execute_result"
    }
   ],
   "source": [
    "chi2, p, dof, ex = chi2_contingency(agg_df.loc[[0,1], [0,1]])\n",
    "p"
   ]
  },
  {
   "cell_type": "code",
   "execution_count": 48,
   "metadata": {},
   "outputs": [
    {
     "data": {
      "text/plain": [
       "0.14293426550821686"
      ]
     },
     "execution_count": 48,
     "metadata": {},
     "output_type": "execute_result"
    }
   ],
   "source": [
    "chi2, p, dof, ex = chi2_contingency(agg_df.loc[[0,2], [0,1]])\n",
    "p"
   ]
  },
  {
   "cell_type": "markdown",
   "metadata": {},
   "source": [
    "Такая же история, группы либо малочисленные, либо не разделяют целевую переменную в достаточной мере."
   ]
  },
  {
   "cell_type": "markdown",
   "metadata": {},
   "source": [
    "### Number of Open Accounts - количество открытых счетов"
   ]
  },
  {
   "cell_type": "code",
   "execution_count": 49,
   "metadata": {},
   "outputs": [
    {
     "data": {
      "image/png": "[encoded data removed]",
      "text/plain": [
       "<Figure size 792x324 with 1 Axes>"
      ]
     },
     "metadata": {},
     "output_type": "display_data"
    }
   ],
   "source": [
    "feature_name = 'Number of Open Accounts'\n",
    "sns.scatterplot(data=feature_target_counts(df, [feature_name]), x=feature_name, y=FREQ_NAME);"
   ]
  },
  {
   "cell_type": "code",
   "execution_count": 50,
   "metadata": {},
   "outputs": [
    {
     "data": {
      "text/html": [
       "<div>\n",
       "<style scoped>\n",
       "    .dataframe tbody tr th:only-of-type {\n",
       "        vertical-align: middle;\n",
       "    }\n",
       "\n",
       "    .dataframe tbody tr th {\n",
       "        vertical-align: top;\n",
       "    }\n",
       "\n",
       "    .dataframe thead th {\n",
       "        text-align: right;\n",
       "    }\n",
       "</style>\n",
       "<table border=\"1\" class=\"dataframe\">\n",
       "  <thead>\n",
       "    <tr style=\"text-align: right;\">\n",
       "      <th>Credit Default</th>\n",
       "      <th>0</th>\n",
       "      <th>1</th>\n",
       "      <th>Count</th>\n",
       "      <th>Share %</th>\n",
       "      <th>Chance of Default</th>\n",
       "    </tr>\n",
       "    <tr>\n",
       "      <th>Over_12</th>\n",
       "      <th></th>\n",
       "      <th></th>\n",
       "      <th></th>\n",
       "      <th></th>\n",
       "      <th></th>\n",
       "    </tr>\n",
       "  </thead>\n",
       "  <tbody>\n",
       "    <tr>\n",
       "      <th>False</th>\n",
       "      <td>3692</td>\n",
       "      <td>1382</td>\n",
       "      <td>5074</td>\n",
       "      <td>67.65</td>\n",
       "      <td>0.272369</td>\n",
       "    </tr>\n",
       "    <tr>\n",
       "      <th>True</th>\n",
       "      <td>1695</td>\n",
       "      <td>731</td>\n",
       "      <td>2426</td>\n",
       "      <td>32.35</td>\n",
       "      <td>0.301319</td>\n",
       "    </tr>\n",
       "  </tbody>\n",
       "</table>\n",
       "</div>"
      ],
      "text/plain": [
       "Credit Default     0     1  Count  Share %  Chance of Default\n",
       "Over_12                                                      \n",
       "False           3692  1382   5074    67.65           0.272369\n",
       "True            1695   731   2426    32.35           0.301319"
      ]
     },
     "execution_count": 50,
     "metadata": {},
     "output_type": "execute_result"
    }
   ],
   "source": [
    "# Начиная с некоторого значения признака, в данном случае, с 13, заметно отличие частоты дефолта\n",
    "agg_df = feature_target_counts(df.assign(Over_12 =(df[feature_name] > 12)), ['Over_12'])\n",
    "agg_df"
   ]
  },
  {
   "cell_type": "code",
   "execution_count": 51,
   "metadata": {},
   "outputs": [
    {
     "data": {
      "text/plain": [
       "0.009886126527020072"
      ]
     },
     "execution_count": 51,
     "metadata": {},
     "output_type": "execute_result"
    }
   ],
   "source": [
    "# Убедимся, что частоты не согласованы\n",
    "chi2, p, dof, ex = chi2_contingency(agg_df.iloc[[0, 1], [0,1]])\n",
    "p"
   ]
  },
  {
   "cell_type": "code",
   "execution_count": 52,
   "metadata": {},
   "outputs": [],
   "source": [
    "new_feature_name = f\"{feature_name} Over 12\"\n",
    "df[new_feature_name] = (df[feature_name] > 12).astype(np.uint8)\n",
    "test_df[new_feature_name] = (test_df[feature_name] > 12).astype(np.uint8)"
   ]
  },
  {
   "cell_type": "code",
   "execution_count": 53,
   "metadata": {},
   "outputs": [],
   "source": [
    "feature_candidates.append(new_feature_name)"
   ]
  },
  {
   "cell_type": "markdown",
   "metadata": {},
   "source": [
    "### Years in current job - количество лет на текущем месте работы"
   ]
  },
  {
   "cell_type": "code",
   "execution_count": 54,
   "metadata": {},
   "outputs": [
    {
     "data": {
      "text/html": [
       "<div>\n",
       "<style scoped>\n",
       "    .dataframe tbody tr th:only-of-type {\n",
       "        vertical-align: middle;\n",
       "    }\n",
       "\n",
       "    .dataframe tbody tr th {\n",
       "        vertical-align: top;\n",
       "    }\n",
       "\n",
       "    .dataframe thead th {\n",
       "        text-align: right;\n",
       "    }\n",
       "</style>\n",
       "<table border=\"1\" class=\"dataframe\">\n",
       "  <thead>\n",
       "    <tr style=\"text-align: right;\">\n",
       "      <th>Credit Default</th>\n",
       "      <th>0</th>\n",
       "      <th>1</th>\n",
       "      <th>Count</th>\n",
       "      <th>Share %</th>\n",
       "      <th>Chance of Default</th>\n",
       "    </tr>\n",
       "    <tr>\n",
       "      <th>Years in current job</th>\n",
       "      <th></th>\n",
       "      <th></th>\n",
       "      <th></th>\n",
       "      <th></th>\n",
       "      <th></th>\n",
       "    </tr>\n",
       "  </thead>\n",
       "  <tbody>\n",
       "    <tr>\n",
       "      <th>NA</th>\n",
       "      <td>234</td>\n",
       "      <td>137</td>\n",
       "      <td>371</td>\n",
       "      <td>4.95</td>\n",
       "      <td>0.369272</td>\n",
       "    </tr>\n",
       "    <tr>\n",
       "      <th>6 years</th>\n",
       "      <td>302</td>\n",
       "      <td>124</td>\n",
       "      <td>426</td>\n",
       "      <td>5.68</td>\n",
       "      <td>0.291080</td>\n",
       "    </tr>\n",
       "    <tr>\n",
       "      <th>&lt; 1 year</th>\n",
       "      <td>404</td>\n",
       "      <td>159</td>\n",
       "      <td>563</td>\n",
       "      <td>7.51</td>\n",
       "      <td>0.282416</td>\n",
       "    </tr>\n",
       "    <tr>\n",
       "      <th>1 year</th>\n",
       "      <td>362</td>\n",
       "      <td>142</td>\n",
       "      <td>504</td>\n",
       "      <td>6.72</td>\n",
       "      <td>0.281746</td>\n",
       "    </tr>\n",
       "    <tr>\n",
       "      <th>5 years</th>\n",
       "      <td>371</td>\n",
       "      <td>145</td>\n",
       "      <td>516</td>\n",
       "      <td>6.88</td>\n",
       "      <td>0.281008</td>\n",
       "    </tr>\n",
       "    <tr>\n",
       "      <th>7 years</th>\n",
       "      <td>285</td>\n",
       "      <td>111</td>\n",
       "      <td>396</td>\n",
       "      <td>5.28</td>\n",
       "      <td>0.280303</td>\n",
       "    </tr>\n",
       "    <tr>\n",
       "      <th>4 years</th>\n",
       "      <td>338</td>\n",
       "      <td>131</td>\n",
       "      <td>469</td>\n",
       "      <td>6.25</td>\n",
       "      <td>0.279318</td>\n",
       "    </tr>\n",
       "    <tr>\n",
       "      <th>10+ years</th>\n",
       "      <td>1688</td>\n",
       "      <td>644</td>\n",
       "      <td>2332</td>\n",
       "      <td>31.09</td>\n",
       "      <td>0.276158</td>\n",
       "    </tr>\n",
       "    <tr>\n",
       "      <th>3 years</th>\n",
       "      <td>450</td>\n",
       "      <td>170</td>\n",
       "      <td>620</td>\n",
       "      <td>8.27</td>\n",
       "      <td>0.274194</td>\n",
       "    </tr>\n",
       "    <tr>\n",
       "      <th>2 years</th>\n",
       "      <td>512</td>\n",
       "      <td>193</td>\n",
       "      <td>705</td>\n",
       "      <td>9.40</td>\n",
       "      <td>0.273759</td>\n",
       "    </tr>\n",
       "    <tr>\n",
       "      <th>8 years</th>\n",
       "      <td>247</td>\n",
       "      <td>92</td>\n",
       "      <td>339</td>\n",
       "      <td>4.52</td>\n",
       "      <td>0.271386</td>\n",
       "    </tr>\n",
       "    <tr>\n",
       "      <th>9 years</th>\n",
       "      <td>194</td>\n",
       "      <td>65</td>\n",
       "      <td>259</td>\n",
       "      <td>3.45</td>\n",
       "      <td>0.250965</td>\n",
       "    </tr>\n",
       "  </tbody>\n",
       "</table>\n",
       "</div>"
      ],
      "text/plain": [
       "Credit Default           0    1  Count  Share %  Chance of Default\n",
       "Years in current job                                              \n",
       "NA                     234  137    371     4.95           0.369272\n",
       "6 years                302  124    426     5.68           0.291080\n",
       "< 1 year               404  159    563     7.51           0.282416\n",
       "1 year                 362  142    504     6.72           0.281746\n",
       "5 years                371  145    516     6.88           0.281008\n",
       "7 years                285  111    396     5.28           0.280303\n",
       "4 years                338  131    469     6.25           0.279318\n",
       "10+ years             1688  644   2332    31.09           0.276158\n",
       "3 years                450  170    620     8.27           0.274194\n",
       "2 years                512  193    705     9.40           0.273759\n",
       "8 years                247   92    339     4.52           0.271386\n",
       "9 years                194   65    259     3.45           0.250965"
      ]
     },
     "execution_count": 54,
     "metadata": {},
     "output_type": "execute_result"
    }
   ],
   "source": [
    "feature_name = 'Years in current job'\n",
    "feature_target_counts(df, [feature_name]).sort_values(FREQ_NAME, ascending=False)"
   ]
  },
  {
   "cell_type": "code",
   "execution_count": 55,
   "metadata": {},
   "outputs": [],
   "source": [
    "# Создадим признак пропущенного значения, а значения самого признака не будем использовать\n",
    "feature_missing_name = f\"{feature_name} Missing\"\n",
    "df[feature_missing_name] = df[feature_name].isnull().astype(np.uint8)\n",
    "test_df[feature_missing_name] = test_df[feature_name].isnull().astype(np.uint8)"
   ]
  },
  {
   "cell_type": "code",
   "execution_count": 56,
   "metadata": {},
   "outputs": [],
   "source": [
    "feature_candidates.append(feature_missing_name)"
   ]
  },
  {
   "cell_type": "markdown",
   "metadata": {},
   "source": [
    "### Years of Credit History - количество лет кредитной истории"
   ]
  },
  {
   "cell_type": "code",
   "execution_count": 57,
   "metadata": {},
   "outputs": [],
   "source": [
    "feature_name = 'Years of Credit History'"
   ]
  },
  {
   "cell_type": "code",
   "execution_count": 58,
   "metadata": {},
   "outputs": [
    {
     "data": {
      "image/png": "[encoded data removed]",
      "text/plain": [
       "<Figure size 792x324 with 1 Axes>"
      ]
     },
     "metadata": {},
     "output_type": "display_data"
    }
   ],
   "source": [
    "sns.histplot(data=df, x=feature_name, hue=target);"
   ]
  },
  {
   "cell_type": "code",
   "execution_count": 59,
   "metadata": {},
   "outputs": [
    {
     "data": {
      "text/plain": [
       "MannwhitneyuResult(statistic=5461129.5, pvalue=0.003171215731103466)"
      ]
     },
     "execution_count": 59,
     "metadata": {},
     "output_type": "execute_result"
    }
   ],
   "source": [
    "mannwhitneyu(\n",
    "    df.loc[df[target] == 0, feature_name].values,\n",
    "    df.loc[df[target] == 1, feature_name].values\n",
    ")"
   ]
  },
  {
   "cell_type": "code",
   "execution_count": 60,
   "metadata": {},
   "outputs": [],
   "source": [
    "feature_candidates.append(feature_name)"
   ]
  },
  {
   "cell_type": "markdown",
   "metadata": {},
   "source": [
    "### Months since last delinquent - количество месяцев с последней просрочки платежа"
   ]
  },
  {
   "cell_type": "code",
   "execution_count": 61,
   "metadata": {},
   "outputs": [
    {
     "data": {
      "text/plain": [
       "True     0.544133\n",
       "False    0.455867\n",
       "Name: Months since last delinquent, dtype: float64"
      ]
     },
     "execution_count": 61,
     "metadata": {},
     "output_type": "execute_result"
    }
   ],
   "source": [
    "feature_name = 'Months since last delinquent'\n",
    "df[feature_name].isnull().value_counts(normalize=True)"
   ]
  },
  {
   "cell_type": "code",
   "execution_count": 62,
   "metadata": {},
   "outputs": [
    {
     "data": {
      "text/html": [
       "<div>\n",
       "<style scoped>\n",
       "    .dataframe tbody tr th:only-of-type {\n",
       "        vertical-align: middle;\n",
       "    }\n",
       "\n",
       "    .dataframe tbody tr th {\n",
       "        vertical-align: top;\n",
       "    }\n",
       "\n",
       "    .dataframe thead th {\n",
       "        text-align: right;\n",
       "    }\n",
       "</style>\n",
       "<table border=\"1\" class=\"dataframe\">\n",
       "  <thead>\n",
       "    <tr style=\"text-align: right;\">\n",
       "      <th>Credit Default</th>\n",
       "      <th>0</th>\n",
       "      <th>1</th>\n",
       "      <th>Count</th>\n",
       "      <th>Share %</th>\n",
       "      <th>Chance of Default</th>\n",
       "    </tr>\n",
       "    <tr>\n",
       "      <th>Tag</th>\n",
       "      <th></th>\n",
       "      <th></th>\n",
       "      <th></th>\n",
       "      <th></th>\n",
       "      <th></th>\n",
       "    </tr>\n",
       "  </thead>\n",
       "  <tbody>\n",
       "    <tr>\n",
       "      <th>0</th>\n",
       "      <td>2003</td>\n",
       "      <td>733</td>\n",
       "      <td>2736</td>\n",
       "      <td>36.48</td>\n",
       "      <td>0.267909</td>\n",
       "    </tr>\n",
       "    <tr>\n",
       "      <th>1</th>\n",
       "      <td>2356</td>\n",
       "      <td>851</td>\n",
       "      <td>3207</td>\n",
       "      <td>42.76</td>\n",
       "      <td>0.265357</td>\n",
       "    </tr>\n",
       "    <tr>\n",
       "      <th>10</th>\n",
       "      <td>433</td>\n",
       "      <td>250</td>\n",
       "      <td>683</td>\n",
       "      <td>9.11</td>\n",
       "      <td>0.366032</td>\n",
       "    </tr>\n",
       "    <tr>\n",
       "      <th>11</th>\n",
       "      <td>595</td>\n",
       "      <td>279</td>\n",
       "      <td>874</td>\n",
       "      <td>11.65</td>\n",
       "      <td>0.319222</td>\n",
       "    </tr>\n",
       "  </tbody>\n",
       "</table>\n",
       "</div>"
      ],
      "text/plain": [
       "Credit Default     0    1  Count  Share %  Chance of Default\n",
       "Tag                                                         \n",
       "0               2003  733   2736    36.48           0.267909\n",
       "1               2356  851   3207    42.76           0.265357\n",
       "10               433  250    683     9.11           0.366032\n",
       "11               595  279    874    11.65           0.319222"
      ]
     },
     "execution_count": 62,
     "metadata": {},
     "output_type": "execute_result"
    }
   ],
   "source": [
    "feature_df = df.filter([feature_name, 'Annual Income', target]).copy()\n",
    "feature_df['Tag'] = 10 * feature_df['Annual Income'].isnull() + feature_df[feature_name].isnull() \n",
    "feature_target_counts(feature_df, ['Tag'])"
   ]
  },
  {
   "cell_type": "code",
   "execution_count": 63,
   "metadata": {},
   "outputs": [],
   "source": [
    "# Отметим несколько большую частоту дефолта в данных, у которых отсутствует значение Annual Income, но ненулевое Months since last delinquent\n",
    "new_feature_name = f\"{feature_name} Special\"\n",
    "df[new_feature_name] = ((10 * df['Annual Income'].isnull() + df[feature_name].isnull() == 10)).astype(np.uint8)\n",
    "test_df[new_feature_name] = (10 * df['Annual Income'].isnull() + test_df[feature_name].isnull() == 10).astype(np.uint8)"
   ]
  },
  {
   "cell_type": "code",
   "execution_count": 64,
   "metadata": {},
   "outputs": [
    {
     "data": {
      "text/html": [
       "<div>\n",
       "<style scoped>\n",
       "    .dataframe tbody tr th:only-of-type {\n",
       "        vertical-align: middle;\n",
       "    }\n",
       "\n",
       "    .dataframe tbody tr th {\n",
       "        vertical-align: top;\n",
       "    }\n",
       "\n",
       "    .dataframe thead th {\n",
       "        text-align: right;\n",
       "    }\n",
       "</style>\n",
       "<table border=\"1\" class=\"dataframe\">\n",
       "  <thead>\n",
       "    <tr style=\"text-align: right;\">\n",
       "      <th>Credit Default</th>\n",
       "      <th>0</th>\n",
       "      <th>1</th>\n",
       "      <th>Count</th>\n",
       "      <th>Share %</th>\n",
       "      <th>Chance of Default</th>\n",
       "    </tr>\n",
       "    <tr>\n",
       "      <th>Months since last delinquent Special</th>\n",
       "      <th></th>\n",
       "      <th></th>\n",
       "      <th></th>\n",
       "      <th></th>\n",
       "      <th></th>\n",
       "    </tr>\n",
       "  </thead>\n",
       "  <tbody>\n",
       "    <tr>\n",
       "      <th>0</th>\n",
       "      <td>4954</td>\n",
       "      <td>1863</td>\n",
       "      <td>6817</td>\n",
       "      <td>90.89</td>\n",
       "      <td>0.273287</td>\n",
       "    </tr>\n",
       "    <tr>\n",
       "      <th>1</th>\n",
       "      <td>433</td>\n",
       "      <td>250</td>\n",
       "      <td>683</td>\n",
       "      <td>9.11</td>\n",
       "      <td>0.366032</td>\n",
       "    </tr>\n",
       "  </tbody>\n",
       "</table>\n",
       "</div>"
      ],
      "text/plain": [
       "Credit Default                           0     1  Count  Share %  \\\n",
       "Months since last delinquent Special                               \n",
       "0                                     4954  1863   6817    90.89   \n",
       "1                                      433   250    683     9.11   \n",
       "\n",
       "Credit Default                        Chance of Default  \n",
       "Months since last delinquent Special                     \n",
       "0                                              0.273287  \n",
       "1                                              0.366032  "
      ]
     },
     "execution_count": 64,
     "metadata": {},
     "output_type": "execute_result"
    }
   ],
   "source": [
    "feature_target_counts(df, [new_feature_name])"
   ]
  },
  {
   "cell_type": "code",
   "execution_count": 65,
   "metadata": {},
   "outputs": [],
   "source": [
    "feature_candidates.append(new_feature_name)"
   ]
  },
  {
   "cell_type": "markdown",
   "metadata": {},
   "source": [
    "### Bankruptcies - банкротства"
   ]
  },
  {
   "cell_type": "code",
   "execution_count": 66,
   "metadata": {},
   "outputs": [
    {
     "data": {
      "text/html": [
       "<div>\n",
       "<style scoped>\n",
       "    .dataframe tbody tr th:only-of-type {\n",
       "        vertical-align: middle;\n",
       "    }\n",
       "\n",
       "    .dataframe tbody tr th {\n",
       "        vertical-align: top;\n",
       "    }\n",
       "\n",
       "    .dataframe thead th {\n",
       "        text-align: right;\n",
       "    }\n",
       "</style>\n",
       "<table border=\"1\" class=\"dataframe\">\n",
       "  <thead>\n",
       "    <tr style=\"text-align: right;\">\n",
       "      <th>Credit Default</th>\n",
       "      <th>0</th>\n",
       "      <th>1</th>\n",
       "      <th>Count</th>\n",
       "      <th>Share %</th>\n",
       "      <th>Chance of Default</th>\n",
       "    </tr>\n",
       "    <tr>\n",
       "      <th>Bankruptcies</th>\n",
       "      <th></th>\n",
       "      <th></th>\n",
       "      <th></th>\n",
       "      <th></th>\n",
       "      <th></th>\n",
       "    </tr>\n",
       "  </thead>\n",
       "  <tbody>\n",
       "    <tr>\n",
       "      <th>-1.0</th>\n",
       "      <td>10</td>\n",
       "      <td>4</td>\n",
       "      <td>14</td>\n",
       "      <td>0.19</td>\n",
       "      <td>0.285714</td>\n",
       "    </tr>\n",
       "    <tr>\n",
       "      <th>0.0</th>\n",
       "      <td>4782</td>\n",
       "      <td>1878</td>\n",
       "      <td>6660</td>\n",
       "      <td>88.80</td>\n",
       "      <td>0.281982</td>\n",
       "    </tr>\n",
       "    <tr>\n",
       "      <th>1.0</th>\n",
       "      <td>569</td>\n",
       "      <td>217</td>\n",
       "      <td>786</td>\n",
       "      <td>10.48</td>\n",
       "      <td>0.276081</td>\n",
       "    </tr>\n",
       "    <tr>\n",
       "      <th>2.0</th>\n",
       "      <td>20</td>\n",
       "      <td>11</td>\n",
       "      <td>31</td>\n",
       "      <td>0.41</td>\n",
       "      <td>0.354839</td>\n",
       "    </tr>\n",
       "    <tr>\n",
       "      <th>3.0</th>\n",
       "      <td>5</td>\n",
       "      <td>2</td>\n",
       "      <td>7</td>\n",
       "      <td>0.09</td>\n",
       "      <td>0.285714</td>\n",
       "    </tr>\n",
       "    <tr>\n",
       "      <th>4.0</th>\n",
       "      <td>1</td>\n",
       "      <td>1</td>\n",
       "      <td>2</td>\n",
       "      <td>0.03</td>\n",
       "      <td>0.500000</td>\n",
       "    </tr>\n",
       "  </tbody>\n",
       "</table>\n",
       "</div>"
      ],
      "text/plain": [
       "Credit Default     0     1  Count  Share %  Chance of Default\n",
       "Bankruptcies                                                 \n",
       "-1.0              10     4     14     0.19           0.285714\n",
       " 0.0            4782  1878   6660    88.80           0.281982\n",
       " 1.0             569   217    786    10.48           0.276081\n",
       " 2.0              20    11     31     0.41           0.354839\n",
       " 3.0               5     2      7     0.09           0.285714\n",
       " 4.0               1     1      2     0.03           0.500000"
      ]
     },
     "execution_count": 66,
     "metadata": {},
     "output_type": "execute_result"
    }
   ],
   "source": [
    "# Группы не особо помогают разделить целевую переменную\n",
    "feature_target_counts(df, ['Bankruptcies'], -1)"
   ]
  },
  {
   "cell_type": "markdown",
   "metadata": {},
   "source": [
    "### Purpose / Term / Home Ownership"
   ]
  },
  {
   "cell_type": "code",
   "execution_count": 67,
   "metadata": {},
   "outputs": [],
   "source": [
    "# Создадим новый признак, принимающий значения частоты дефолта, в зависимости от сочетания значений Purpose, Term и Home Ownership\n",
    "new_feature_name = 'Purpose/Term/Home Ownership CoD'"
   ]
  },
  {
   "cell_type": "code",
   "execution_count": 68,
   "metadata": {},
   "outputs": [
    {
     "data": {
      "text/html": [
       "<div>\n",
       "<style scoped>\n",
       "    .dataframe tbody tr th:only-of-type {\n",
       "        vertical-align: middle;\n",
       "    }\n",
       "\n",
       "    .dataframe tbody tr th {\n",
       "        vertical-align: top;\n",
       "    }\n",
       "\n",
       "    .dataframe thead th {\n",
       "        text-align: right;\n",
       "    }\n",
       "</style>\n",
       "<table border=\"1\" class=\"dataframe\">\n",
       "  <thead>\n",
       "    <tr style=\"text-align: right;\">\n",
       "      <th>Credit Default</th>\n",
       "      <th>Purpose</th>\n",
       "      <th>Term</th>\n",
       "      <th>Home Ownership</th>\n",
       "      <th>Purpose/Term/Home Ownership CoD Share</th>\n",
       "      <th>Purpose/Term/Home Ownership CoD</th>\n",
       "    </tr>\n",
       "  </thead>\n",
       "  <tbody>\n",
       "    <tr>\n",
       "      <th>0</th>\n",
       "      <td>debt consolidation</td>\n",
       "      <td>Short Term</td>\n",
       "      <td>Rent</td>\n",
       "      <td>27.35</td>\n",
       "      <td>0.268649</td>\n",
       "    </tr>\n",
       "    <tr>\n",
       "      <th>1</th>\n",
       "      <td>debt consolidation</td>\n",
       "      <td>Short Term</td>\n",
       "      <td>Home Mortgage</td>\n",
       "      <td>26.35</td>\n",
       "      <td>0.188259</td>\n",
       "    </tr>\n",
       "    <tr>\n",
       "      <th>2</th>\n",
       "      <td>debt consolidation</td>\n",
       "      <td>Long Term</td>\n",
       "      <td>Home Mortgage</td>\n",
       "      <td>11.84</td>\n",
       "      <td>0.382883</td>\n",
       "    </tr>\n",
       "    <tr>\n",
       "      <th>3</th>\n",
       "      <td>debt consolidation</td>\n",
       "      <td>Long Term</td>\n",
       "      <td>Rent</td>\n",
       "      <td>7.16</td>\n",
       "      <td>0.472998</td>\n",
       "    </tr>\n",
       "    <tr>\n",
       "      <th>4</th>\n",
       "      <td>debt consolidation</td>\n",
       "      <td>Short Term</td>\n",
       "      <td>Own Home</td>\n",
       "      <td>4.80</td>\n",
       "      <td>0.230556</td>\n",
       "    </tr>\n",
       "    <tr>\n",
       "      <th>5</th>\n",
       "      <td>other</td>\n",
       "      <td>Short Term</td>\n",
       "      <td>Rent</td>\n",
       "      <td>3.77</td>\n",
       "      <td>0.265018</td>\n",
       "    </tr>\n",
       "    <tr>\n",
       "      <th>6</th>\n",
       "      <td>home improvements</td>\n",
       "      <td>Short Term</td>\n",
       "      <td>Home Mortgage</td>\n",
       "      <td>2.96</td>\n",
       "      <td>0.171171</td>\n",
       "    </tr>\n",
       "  </tbody>\n",
       "</table>\n",
       "</div>"
      ],
      "text/plain": [
       "Credit Default             Purpose        Term Home Ownership  \\\n",
       "0               debt consolidation  Short Term           Rent   \n",
       "1               debt consolidation  Short Term  Home Mortgage   \n",
       "2               debt consolidation   Long Term  Home Mortgage   \n",
       "3               debt consolidation   Long Term           Rent   \n",
       "4               debt consolidation  Short Term       Own Home   \n",
       "5                            other  Short Term           Rent   \n",
       "6                home improvements  Short Term  Home Mortgage   \n",
       "\n",
       "Credit Default  Purpose/Term/Home Ownership CoD Share  \\\n",
       "0                                               27.35   \n",
       "1                                               26.35   \n",
       "2                                               11.84   \n",
       "3                                                7.16   \n",
       "4                                                4.80   \n",
       "5                                                3.77   \n",
       "6                                                2.96   \n",
       "\n",
       "Credit Default  Purpose/Term/Home Ownership CoD  \n",
       "0                                      0.268649  \n",
       "1                                      0.188259  \n",
       "2                                      0.382883  \n",
       "3                                      0.472998  \n",
       "4                                      0.230556  \n",
       "5                                      0.265018  \n",
       "6                                      0.171171  "
      ]
     },
     "execution_count": 68,
     "metadata": {},
     "output_type": "execute_result"
    }
   ],
   "source": [
    "agg_df = (\n",
    "    feature_target_counts(df, ['Purpose', 'Term', 'Home Ownership'])\n",
    "    .sort_values('Share %', ascending=False)\n",
    "    .filter(['Share %', FREQ_NAME])\n",
    "    .reset_index()\n",
    "    .rename(columns={FREQ_NAME: new_feature_name, 'Share %': f\"{new_feature_name} Share\"})\n",
    ")\n",
    "agg_df.head(7)"
   ]
  },
  {
   "cell_type": "code",
   "execution_count": 69,
   "metadata": {},
   "outputs": [],
   "source": [
    "df = pd.merge(df, agg_df, how='left')\n",
    "df[new_feature_name].fillna(credit_score_missing_freq, inplace=True)\n",
    "test_df = pd.merge(test_df, agg_df, how='left')\n",
    "test_df[new_feature_name].fillna(credit_score_missing_freq, inplace=True)"
   ]
  },
  {
   "cell_type": "code",
   "execution_count": 70,
   "metadata": {},
   "outputs": [],
   "source": [
    "feature_candidates.append(new_feature_name)"
   ]
  },
  {
   "cell_type": "markdown",
   "metadata": {},
   "source": [
    "## Базовая модель"
   ]
  },
  {
   "cell_type": "markdown",
   "metadata": {},
   "source": [
    "### Корреляция признаков-кандидатов с целевой переменной и между собой"
   ]
  },
  {
   "cell_type": "code",
   "execution_count": 71,
   "metadata": {},
   "outputs": [
    {
     "data": {
      "text/plain": [
       "Credit Score CoD                             0.428685\n",
       "Purpose/Term/Home Ownership CoD              0.232629\n",
       "Current Loan Amount Low Risk                 0.226871\n",
       "Annual Income CoD                            0.119038\n",
       "Months since last delinquent Special         0.059316\n",
       "Years in current job Missing                 0.044393\n",
       "Current Credit Balance/Monthly Debt          0.036132\n",
       "Number of Open Accounts Over 12              0.030106\n",
       "Years of Credit History                      0.020567\n",
       "Maximum Open Credit - Current Loan Amount    0.016367\n",
       "Name: Credit Default, dtype: float64"
      ]
     },
     "execution_count": 71,
     "metadata": {},
     "output_type": "execute_result"
    }
   ],
   "source": [
    "df.filter(feature_candidates + [target]).corr()[target].abs().sort_values(ascending=False)[1:]"
   ]
  },
  {
   "cell_type": "code",
   "execution_count": 72,
   "metadata": {},
   "outputs": [],
   "source": [
    "feature_corr_matrix = df.filter(feature_candidates).corr().round(2)"
   ]
  },
  {
   "cell_type": "code",
   "execution_count": 73,
   "metadata": {},
   "outputs": [
    {
     "data": {
      "image/png": "[encoded data removed]",
      "text/plain": [
       "<Figure size 864x432 with 2 Axes>"
      ]
     },
     "metadata": {},
     "output_type": "display_data"
    }
   ],
   "source": [
    "sns_plot = sns.heatmap(feature_corr_matrix, annot=True, cmap='GnBu', annot_kws={\"fontsize\":10})\n",
    "sns_plot.figure.set_size_inches((12, 6))"
   ]
  },
  {
   "cell_type": "code",
   "execution_count": 74,
   "metadata": {},
   "outputs": [],
   "source": [
    "# Считаем, что все кандидаты годятся\n",
    "use_features = feature_candidates"
   ]
  },
  {
   "cell_type": "markdown",
   "metadata": {},
   "source": [
    "### Наборы данных для моделей"
   ]
  },
  {
   "cell_type": "code",
   "execution_count": 75,
   "metadata": {},
   "outputs": [],
   "source": [
    "X = df.filter(use_features)\n",
    "y = df[target]"
   ]
  },
  {
   "cell_type": "code",
   "execution_count": 76,
   "metadata": {},
   "outputs": [
    {
     "data": {
      "text/plain": [
       "((5250, 10), (2250, 10))"
      ]
     },
     "execution_count": 76,
     "metadata": {},
     "output_type": "execute_result"
    }
   ],
   "source": [
    "X_train, X_test, y_train, y_test = train_test_split(X, y, test_size=0.3, shuffle=True, stratify=y, random_state=2)\n",
    "X_train.shape, X_test.shape"
   ]
  },
  {
   "cell_type": "code",
   "execution_count": 77,
   "metadata": {},
   "outputs": [],
   "source": [
    "basic_model = DecisionTreeClassifier(random_state=2020, max_depth=5)"
   ]
  },
  {
   "cell_type": "markdown",
   "metadata": {},
   "source": [
    "## Балансировка"
   ]
  },
  {
   "cell_type": "markdown",
   "metadata": {},
   "source": [
    "Сравним методы Tomeklinks, SMOTE и задание весов классов базовой модели"
   ]
  },
  {
   "cell_type": "markdown",
   "metadata": {},
   "source": [
    "### Tomeklinks"
   ]
  },
  {
   "cell_type": "code",
   "execution_count": 78,
   "metadata": {},
   "outputs": [
    {
     "data": {
      "text/plain": [
       "0    3100\n",
       "1    1479\n",
       "Name: Credit Default, dtype: int64"
      ]
     },
     "execution_count": 78,
     "metadata": {},
     "output_type": "execute_result"
    }
   ],
   "source": [
    "from imblearn.under_sampling import TomekLinks\n",
    "\n",
    "tl = TomekLinks()\n",
    "X_train_balanced, y_train_balanced = tl.fit_sample(X_train, y_train)\n",
    "\n",
    "y_train_balanced.value_counts()"
   ]
  },
  {
   "cell_type": "code",
   "execution_count": 79,
   "metadata": {},
   "outputs": [
    {
     "name": "stdout",
     "output_type": "stream",
     "text": [
      "              precision    recall  f1-score   support\n",
      "\n",
      "           0       0.77      0.98      0.86      1616\n",
      "           1       0.81      0.25      0.39       634\n",
      "\n",
      "    accuracy                           0.77      2250\n",
      "   macro avg       0.79      0.61      0.62      2250\n",
      "weighted avg       0.78      0.77      0.73      2250\n",
      "\n"
     ]
    }
   ],
   "source": [
    "basic_model.fit(X_train_balanced, y_train_balanced)\n",
    "print(classification_report(y_test, basic_model.predict(X_test)))"
   ]
  },
  {
   "cell_type": "markdown",
   "metadata": {},
   "source": [
    "### SMOTE"
   ]
  },
  {
   "cell_type": "code",
   "execution_count": 80,
   "metadata": {},
   "outputs": [
    {
     "data": {
      "text/plain": [
       "1    3771\n",
       "0    3771\n",
       "Name: Credit Default, dtype: int64"
      ]
     },
     "execution_count": 80,
     "metadata": {},
     "output_type": "execute_result"
    }
   ],
   "source": [
    "from imblearn.over_sampling import SMOTE\n",
    "\n",
    "smote = SMOTE()\n",
    "X_train_balanced, y_train_balanced = smote.fit_sample(X_train, y_train)\n",
    "\n",
    "y_train_balanced.value_counts()"
   ]
  },
  {
   "cell_type": "code",
   "execution_count": 81,
   "metadata": {},
   "outputs": [
    {
     "name": "stdout",
     "output_type": "stream",
     "text": [
      "              precision    recall  f1-score   support\n",
      "\n",
      "           0       0.82      0.73      0.77      1616\n",
      "           1       0.46      0.59      0.52       634\n",
      "\n",
      "    accuracy                           0.69      2250\n",
      "   macro avg       0.64      0.66      0.65      2250\n",
      "weighted avg       0.72      0.69      0.70      2250\n",
      "\n"
     ]
    }
   ],
   "source": [
    "basic_model.fit(X_train_balanced, y_train_balanced)\n",
    "print(classification_report(y_test, basic_model.predict(X_test)))"
   ]
  },
  {
   "cell_type": "markdown",
   "metadata": {},
   "source": [
    "### Задание весов классов"
   ]
  },
  {
   "cell_type": "code",
   "execution_count": 82,
   "metadata": {},
   "outputs": [
    {
     "name": "stdout",
     "output_type": "stream",
     "text": [
      "Accuracy на трейне 0.7346666666666667\n",
      "Accuracy на тесте 0.7368888888888889\n",
      "              precision    recall  f1-score   support\n",
      "\n",
      "           0       0.82      0.81      0.81      3771\n",
      "           1       0.53      0.54      0.53      1479\n",
      "\n",
      "    accuracy                           0.73      5250\n",
      "   macro avg       0.67      0.68      0.67      5250\n",
      "weighted avg       0.74      0.73      0.74      5250\n",
      "\n",
      "              precision    recall  f1-score   support\n",
      "\n",
      "           0       0.82      0.82      0.82      1616\n",
      "           1       0.53      0.53      0.53       634\n",
      "\n",
      "    accuracy                           0.74      2250\n",
      "   macro avg       0.67      0.67      0.67      2250\n",
      "weighted avg       0.74      0.74      0.74      2250\n",
      "\n"
     ]
    }
   ],
   "source": [
    "basic_model = DecisionTreeClassifier(random_state=2020, max_depth=5, class_weight={0:1, 1:target_disbalance})\n",
    "basic_model.fit(X_train, y_train)\n",
    "pred_train = basic_model.predict(X_train)\n",
    "pred_test = basic_model.predict(X_test)\n",
    "print(f'Accuracy на трейне {accuracy_score(y_train, pred_train)}')\n",
    "print(f'Accuracy на тесте {accuracy_score(y_test, pred_test)}')\n",
    "print(classification_report(y_train, basic_model.predict(X_train)))\n",
    "print(classification_report(y_test, basic_model.predict(X_test)))"
   ]
  },
  {
   "cell_type": "markdown",
   "metadata": {},
   "source": [
    "> Далее будем использовать веса классов"
   ]
  },
  {
   "cell_type": "code",
   "execution_count": 83,
   "metadata": {},
   "outputs": [],
   "source": [
    "basic_model.fit(X, y)\n",
    "basic_df = pd.DataFrame({'Id': test_df.index.values, target: basic_model.predict(test_df.filter(use_features))})\n",
    "basic_df.to_csv('avidclam_submit_basic.csv', index=False)"
   ]
  },
  {
   "cell_type": "markdown",
   "metadata": {},
   "source": [
    "**Kaggle Score = 0.48945**"
   ]
  },
  {
   "cell_type": "markdown",
   "metadata": {},
   "source": [
    "## Модели бустинга"
   ]
  },
  {
   "cell_type": "markdown",
   "metadata": {},
   "source": [
    "Сразу зададим \"улучшенные\" параметры"
   ]
  },
  {
   "cell_type": "markdown",
   "metadata": {},
   "source": [
    "### XGBoost"
   ]
  },
  {
   "cell_type": "code",
   "execution_count": 84,
   "metadata": {},
   "outputs": [
    {
     "name": "stdout",
     "output_type": "stream",
     "text": [
      "              precision    recall  f1-score   support\n",
      "\n",
      "           0       0.87      0.75      0.81      3771\n",
      "           1       0.53      0.71      0.60      1479\n",
      "\n",
      "    accuracy                           0.74      5250\n",
      "   macro avg       0.70      0.73      0.70      5250\n",
      "weighted avg       0.77      0.74      0.75      5250\n",
      "\n",
      "              precision    recall  f1-score   support\n",
      "\n",
      "           0       0.84      0.73      0.78      1616\n",
      "           1       0.49      0.64      0.55       634\n",
      "\n",
      "    accuracy                           0.71      2250\n",
      "   macro avg       0.66      0.69      0.67      2250\n",
      "weighted avg       0.74      0.71      0.72      2250\n",
      "\n",
      "Wall time: 229 ms\n"
     ]
    }
   ],
   "source": [
    "%%time\n",
    "model_xgb = xgb.XGBClassifier(\n",
    "    booster='gbtree',\n",
    "    tree_method='hist',\n",
    "    importance_type='total_gain',\n",
    "    random_state=2020,\n",
    "    scale_pos_weight=target_disbalance,    \n",
    "    learning_rate=0.07,\n",
    "    max_depth=5,\n",
    "    n_estimators=100,\n",
    "    reg_lambda=30\n",
    ")\n",
    "model_xgb.fit(X_train, y_train)\n",
    "print(classification_report(y_train, model_xgb.predict(X_train)))\n",
    "print(classification_report(y_test, model_xgb.predict(X_test)))"
   ]
  },
  {
   "cell_type": "markdown",
   "metadata": {},
   "source": [
    "### LightGBM"
   ]
  },
  {
   "cell_type": "code",
   "execution_count": 85,
   "metadata": {},
   "outputs": [
    {
     "name": "stdout",
     "output_type": "stream",
     "text": [
      "              precision    recall  f1-score   support\n",
      "\n",
      "           0       0.86      0.75      0.80      3771\n",
      "           1       0.52      0.70      0.60      1479\n",
      "\n",
      "    accuracy                           0.73      5250\n",
      "   macro avg       0.69      0.73      0.70      5250\n",
      "weighted avg       0.77      0.73      0.74      5250\n",
      "\n",
      "              precision    recall  f1-score   support\n",
      "\n",
      "           0       0.84      0.74      0.78      1616\n",
      "           1       0.49      0.64      0.55       634\n",
      "\n",
      "    accuracy                           0.71      2250\n",
      "   macro avg       0.66      0.69      0.67      2250\n",
      "weighted avg       0.74      0.71      0.72      2250\n",
      "\n",
      "Wall time: 201 ms\n"
     ]
    }
   ],
   "source": [
    "%%time\n",
    "model_lgbm = lgbm.LGBMClassifier(\n",
    "    random_state=2020,\n",
    "    class_weight={0:1, 1:target_disbalance},\n",
    "    learning_rate=0.07,\n",
    "    max_depth=5,\n",
    "    n_estimators=100,\n",
    "    reg_lambda=30,\n",
    "    num_leaves=30\n",
    ")\n",
    "model_lgbm.fit(X_train, y_train)\n",
    "print(classification_report(y_train, model_lgbm.predict(X_train)))\n",
    "print(classification_report(y_test, model_lgbm.predict(X_test)))"
   ]
  },
  {
   "cell_type": "markdown",
   "metadata": {},
   "source": [
    "### CatBoost"
   ]
  },
  {
   "cell_type": "code",
   "execution_count": 86,
   "metadata": {},
   "outputs": [
    {
     "name": "stdout",
     "output_type": "stream",
     "text": [
      "              precision    recall  f1-score   support\n",
      "\n",
      "           0       0.85      0.72      0.78      3771\n",
      "           1       0.48      0.66      0.56      1479\n",
      "\n",
      "    accuracy                           0.71      5250\n",
      "   macro avg       0.66      0.69      0.67      5250\n",
      "weighted avg       0.74      0.71      0.72      5250\n",
      "\n",
      "              precision    recall  f1-score   support\n",
      "\n",
      "           0       0.83      0.72      0.77      1616\n",
      "           1       0.47      0.63      0.54       634\n",
      "\n",
      "    accuracy                           0.69      2250\n",
      "   macro avg       0.65      0.68      0.65      2250\n",
      "weighted avg       0.73      0.69      0.71      2250\n",
      "\n",
      "Wall time: 470 ms\n"
     ]
    }
   ],
   "source": [
    "%%time\n",
    "frozen_params = {     \n",
    "    'silent':True,\n",
    "    'random_state':2020,\n",
    "    'eval_metric':'F1',\n",
    "    'l2_leaf_reg': 50,\n",
    "    'class_weights': [1, target_disbalance],\n",
    "    'iterations': 100,\n",
    "    'max_depth': 5\n",
    "}\n",
    "model_cb = catb.CatBoostClassifier(**frozen_params)\n",
    "model_cb.fit(X_train, y_train)\n",
    "print(classification_report(y_train, model_cb.predict(X_train)))\n",
    "print(classification_report(y_test, model_cb.predict(X_test)))"
   ]
  },
  {
   "cell_type": "markdown",
   "metadata": {},
   "source": [
    "## Подбор гиперпараметров"
   ]
  },
  {
   "cell_type": "markdown",
   "metadata": {},
   "source": [
    "Ни одна из моделей радикально не опередила другие по метрикам, для подбора гиперпараметров возьмем LightGBM, так как она имеет преимущество в скорости."
   ]
  },
  {
   "cell_type": "raw",
   "metadata": {},
   "source": [
    "model = lgbm.LGBMClassifier(random_state=2020)\n",
    "param_grid={\n",
    "    'class_weight': [{0:1, 1:target_disbalance*k} for k in (0.9, 1)],\n",
    "    'learning_rate': [0.07, 0.1],\n",
    "    'max_depth': [5, 6],\n",
    "    'n_estimators': [70, 100, 200],\n",
    "    'reg_lambda': [20, 30, 50],\n",
    "    'num_leaves': [20, 30, 70],\n",
    "}\n",
    "cv = StratifiedKFold(n_splits=3, random_state=31, shuffle=True)\n",
    "grid_search = GridSearchCV(model, param_grid, scoring='', cv=cv, n_jobs=-1, verbose=1)\n",
    "grid_search.fit(X_train, y_train)\n",
    "best_model = grid_search.best_estimator_\n",
    "print(classification_report(y_test, best_model.predict(X_test)))"
   ]
  },
  {
   "cell_type": "raw",
   "metadata": {},
   "source": [
    "Лучшие параметры:\n",
    "{'class_weight': {0: 1, 1: 2.294510175106484},\n",
    " 'learning_rate': 0.07,\n",
    " 'max_depth': 5,\n",
    " 'n_estimators': 200,\n",
    " 'num_leaves': 70,\n",
    " 'reg_lambda': 20}"
   ]
  },
  {
   "cell_type": "raw",
   "metadata": {},
   "source": [
    "Метрики на трейне:"
   ]
  },
  {
   "cell_type": "raw",
   "metadata": {},
   "source": [
    "              precision    recall  f1-score   support\n",
    "\n",
    "           0       0.87      0.81      0.84      3771\n",
    "           1       0.60      0.69      0.64      1479\n",
    "\n",
    "    accuracy                           0.78      5250\n",
    "   macro avg       0.73      0.75      0.74      5250\n",
    "weighted avg       0.79      0.78      0.79      5250"
   ]
  },
  {
   "cell_type": "markdown",
   "metadata": {},
   "source": [
    "Метрики на тесте:"
   ]
  },
  {
   "cell_type": "raw",
   "metadata": {},
   "source": [
    "              precision    recall  f1-score   support\n",
    "\n",
    "           0       0.82      0.78      0.80      1616\n",
    "           1       0.51      0.58      0.54       634\n",
    "\n",
    "    accuracy                           0.72      2250\n",
    "   macro avg       0.67      0.68      0.67      2250\n",
    "weighted avg       0.74      0.72      0.73      2250"
   ]
  },
  {
   "cell_type": "markdown",
   "metadata": {},
   "source": [
    "## Финальная модель и экспорт данных"
   ]
  },
  {
   "cell_type": "markdown",
   "metadata": {},
   "source": [
    "В финальной модели немного скорректированы параметры для снижения переобучения и повышения Precision (балансом Precision/Recall можно управлять, меняя class_weight)."
   ]
  },
  {
   "cell_type": "code",
   "execution_count": 87,
   "metadata": {},
   "outputs": [
    {
     "name": "stdout",
     "output_type": "stream",
     "text": [
      "              precision    recall  f1-score   support\n",
      "\n",
      "           0       0.86      0.79      0.83      3771\n",
      "           1       0.56      0.68      0.62      1479\n",
      "\n",
      "    accuracy                           0.76      5250\n",
      "   macro avg       0.71      0.74      0.72      5250\n",
      "weighted avg       0.78      0.76      0.77      5250\n",
      "\n",
      "              precision    recall  f1-score   support\n",
      "\n",
      "           0       0.83      0.77      0.80      1616\n",
      "           1       0.50      0.59      0.55       634\n",
      "\n",
      "    accuracy                           0.72      2250\n",
      "   macro avg       0.67      0.68      0.67      2250\n",
      "weighted avg       0.74      0.72      0.73      2250\n",
      "\n"
     ]
    },
    {
     "data": {
      "image/png": "[encoded data removed]",
      "text/plain": [
       "<Figure size 792x324 with 2 Axes>"
      ]
     },
     "metadata": {},
     "output_type": "display_data"
    },
    {
     "data": {
      "image/png": "[encoded data removed]",
      "text/plain": [
       "<Figure size 792x324 with 1 Axes>"
      ]
     },
     "metadata": {},
     "output_type": "display_data"
    }
   ],
   "source": [
    "final_params = {'class_weight': {0: 1, 1: target_disbalance*.92},\n",
    "                'learning_rate': 0.07,\n",
    "                'max_depth': 5,\n",
    "                'n_estimators': 200,\n",
    "                'num_leaves': 20,\n",
    "                'reg_lambda': 50}\n",
    "final_model = lgbm.LGBMClassifier(random_state=2020, **final_params)\n",
    "final_model.fit(X_train, y_train)\n",
    "print(classification_report(y_train, final_model.predict(X_train)))\n",
    "print(classification_report(y_test, final_model.predict(X_test)))\n",
    "plot_confusion_matrix(final_model, X_test, y_test, cmap=plt.cm.Blues)\n",
    "plot_precision_recall_curve(final_model, X_test, y_test);"
   ]
  },
  {
   "cell_type": "code",
   "execution_count": 88,
   "metadata": {},
   "outputs": [],
   "source": [
    "final_model.fit(X, y)\n",
    "final_df = pd.DataFrame({'Id': test_df.index.values, target: final_model.predict(test_df.filter(use_features))})\n",
    "final_df.to_csv('avidclam_submit.csv', index=False)"
   ]
  },
  {
   "cell_type": "markdown",
   "metadata": {},
   "source": [
    "**Kaggle Score: 0.54244**"
   ]
  }
 ],
 "metadata": {
  "kernelspec": {
   "display_name": "Python 3",
   "language": "python",
   "name": "python3"
  },
  "language_info": {
   "codemirror_mode": {
    "name": "ipython",
    "version": 3
   },
   "file_extension": ".py",
   "mimetype": "text/x-python",
   "name": "python",
   "nbconvert_exporter": "python",
   "pygments_lexer": "ipython3",
   "version": "3.8.6"
  }
 },
 "nbformat": 4,
 "nbformat_minor": 4
}
